{
 "cells": [
  {
   "cell_type": "code",
   "execution_count": 1,
   "id": "fc3ea365-abc2-4df7-926e-83a1dfe5b17b",
   "metadata": {},
   "outputs": [],
   "source": [
    "from paraview import simple\n",
    "\n",
    "cone = simple.Cone()\n",
    "view = simple.GetRenderView()\n",
    "representation = simple.Show(cone, view)"
   ]
  },
  {
   "cell_type": "code",
   "execution_count": 2,
   "id": "dfe05c49-9e5c-42d5-bb23-173164535340",
   "metadata": {},
   "outputs": [],
   "source": [
    "from trame.app import get_server\n",
    "from trame.ui.vuetify import SinglePageLayout\n",
    "from trame.widgets import vuetify, paraview as pv_widgets\n",
    "\n",
    "server = get_server(client_type=\"vue2\")\n",
    "state, ctrl = server.state, server.controller\n",
    "\n",
    "@state.change(\"resolution\")\n",
    "def update_cone(resolution, **_):\n",
    "    cone.Resolution = resolution\n",
    "    ctrl.view_update()\n",
    "\n",
    "with SinglePageLayout(server) as layout:\n",
    "    with layout.toolbar:\n",
    "        vuetify.VSpacer()\n",
    "        vuetify.VSlider(v_model=(\"resolution\", 12), min=3, max=60, dense=True, hide_details=True)\n",
    "        with vuetify.VBtn(icon=True, click=ctrl.view_reset_camera):\n",
    "            vuetify.VIcon(\"mdi-crop-free\")\n",
    "    with layout.content:\n",
    "        with vuetify.VContainer(fluid=True, classes=\"fill-height pa-0 ma-0\"):\n",
    "            with pv_widgets.VtkRemoteView(view, interactive_ratio=1) as html_view:\n",
    "                ctrl.view_update = html_view.update\n",
    "                ctrl.view_reset_camera = html_view.reset_camera\n"
   ]
  },
  {
   "cell_type": "code",
   "execution_count": 3,
   "id": "5696f5ca-0505-47f4-8e95-fab9fb5c8d2c",
   "metadata": {
    "collapsed": true,
    "jupyter": {
     "outputs_hidden": true
    },
    "scrolled": true
   },
   "outputs": [
    {
     "data": {
      "text/html": [
       "<iframe id=\"trame_trame__template_main\" src=\"http://localhost:62300/index.html?ui=main&reconnect=auto\" style=\"border: none; width: 100%; height: 600px;\"></iframe>"
      ]
     },
     "metadata": {},
     "output_type": "display_data"
    }
   ],
   "source": [
    "await layout.ready\n",
    "layout"
   ]
  },
  {
   "cell_type": "code",
   "execution_count": 4,
   "id": "1ec4d8ee-bbdd-40a4-8ce7-8d6157bad09e",
   "metadata": {
    "jupyter": {
     "source_hidden": true
    }
   },
   "outputs": [
    {
     "data": {
      "application/javascript": [
       "\n",
       "(function updateTrameOutputs() {\n",
       "\tconst full = document.querySelectorAll(\".jp-LinkedOutputView iframe[id^=trame]\");\n",
       "\tconst all = document.querySelectorAll(\"iframe[id^=trame]\");\n",
       "\tconst visibleInFullScreen = {};\n",
       "\tconst moveToFullScreen = [];\n",
       "\n",
       "\tfor (let i = 0; i < full.length; i++) {\n",
       "\t\tconst iframe = full[i];\n",
       "\t\tvisibleInFullScreen[iframe.id] = true;\n",
       "\t\tmoveToFullScreen.push(iframe);\n",
       "\t}\n",
       "\tfor (let i = 0; i < all.length; i++) {\n",
       "\t\tconst iframe = all[i];\n",
       "\t\tif (moveToFullScreen.includes(iframe)) {\n",
       "\t\t\tcontinue;\n",
       "\t\t}\n",
       "\t\tif (visibleInFullScreen[iframe.id]) {\n",
       "\t\t\tiframe.style.display = \"none\";\n",
       "\t\t} else {\n",
       "\t\t\tiframe.style.display = \"block\";\n",
       "\t\t}\n",
       "\t}\n",
       "\tfor (let i = 0; i < moveToFullScreen.length; i++) {\n",
       "        const iframe = moveToFullScreen[i];\n",
       "        iframe.style.width = \"100%\";\n",
       "        iframe.style.height = \"100%\";\n",
       "        iframe.parentElement.style.padding = 0;\n",
       "\t\tiframe.parentElement.parentElement.style.height = \"100%\";\n",
       "\t}\n",
       "})();\n"
      ]
     },
     "metadata": {},
     "output_type": "display_data"
    }
   ],
   "source": [
    "# Make Output View full screen with some JS\n",
    "from IPython.display import display_javascript\n",
    "\n",
    "display_javascript(\"\"\"\n",
    "(function updateTrameOutputs() {\n",
    "\tconst full = document.querySelectorAll(\".jp-LinkedOutputView iframe[id^=trame]\");\n",
    "\tconst all = document.querySelectorAll(\"iframe[id^=trame]\");\n",
    "\tconst visibleInFullScreen = {};\n",
    "\tconst moveToFullScreen = [];\n",
    "\n",
    "\tfor (let i = 0; i < full.length; i++) {\n",
    "\t\tconst iframe = full[i];\n",
    "\t\tvisibleInFullScreen[iframe.id] = true;\n",
    "\t\tmoveToFullScreen.push(iframe);\n",
    "\t}\n",
    "\tfor (let i = 0; i < all.length; i++) {\n",
    "\t\tconst iframe = all[i];\n",
    "\t\tif (moveToFullScreen.includes(iframe)) {\n",
    "\t\t\tcontinue;\n",
    "\t\t}\n",
    "\t\tif (visibleInFullScreen[iframe.id]) {\n",
    "\t\t\tiframe.style.display = \"none\";\n",
    "\t\t} else {\n",
    "\t\t\tiframe.style.display = \"block\";\n",
    "\t\t}\n",
    "\t}\n",
    "\tfor (let i = 0; i < moveToFullScreen.length; i++) {\n",
    "        const iframe = moveToFullScreen[i];\n",
    "        iframe.style.width = \"100%\";\n",
    "        iframe.style.height = \"100%\";\n",
    "        iframe.parentElement.style.padding = 0;\n",
    "\t\tiframe.parentElement.parentElement.style.height = \"100%\";\n",
    "\t}\n",
    "})();\n",
    "\"\"\", raw=True)"
   ]
  },
  {
   "cell_type": "code",
   "execution_count": 5,
   "id": "03196eb2-e52d-41b3-bbd8-18e3a92353fa",
   "metadata": {},
   "outputs": [],
   "source": [
    "import asyncio\n",
    "\n",
    "async def animation():\n",
    "    for i in range(3, 60):\n",
    "        with state:\n",
    "            state.resolution = i\n",
    "        await asyncio.sleep(0.1)\n",
    "\n",
    "await animation()"
   ]
  },
  {
   "cell_type": "code",
   "execution_count": null,
   "id": "e4f96aa9-617f-4b9f-95f0-690e5eccea03",
   "metadata": {},
   "outputs": [],
   "source": []
  }
 ],
 "metadata": {
  "kernelspec": {
   "display_name": "Python 3 (ipykernel)",
   "language": "python",
   "name": "python3"
  },
  "language_info": {
   "codemirror_mode": {
    "name": "ipython",
    "version": 3
   },
   "file_extension": ".py",
   "mimetype": "text/x-python",
   "name": "python",
   "nbconvert_exporter": "python",
   "pygments_lexer": "ipython3",
   "version": "3.10.13"
  }
 },
 "nbformat": 4,
 "nbformat_minor": 5
}
